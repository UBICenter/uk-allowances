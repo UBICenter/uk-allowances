{
 "cells": [
  {
   "cell_type": "markdown",
   "source": [
    "# UBI Funding Sources\n",
    "\n",
    "This document evaluates possible funding sources for UBI by broadening the base of taxation.\n",
    "\n",
    "## Personal Allowance\n",
    "\n",
    "### Current system\n",
    "\n",
    "\n",
    "The Personal Allowance is an allowance for most UK individuals, deductible from all forms of income. It is the largest and fastest-growing allowance in the tax code, with most of its gains seen during the Coalition government of 2010-2015, and currently stands at £12,570."
   ],
   "metadata": {}
  },
  {
   "cell_type": "code",
   "execution_count": 1,
   "source": [
    "import plotly.express as px\n",
    "from ubicenter import format_fig as format_fig\n",
    "import pandas as pd\n",
    "\n",
    "historical = pd.read_csv(\"data/external/historical_allowances.csv\")\n",
    "historical[\"Year\"] = list(range(1990, 2022))\n",
    "historical.columns = list(map(lambda col: col.split(\" (note\")[0], historical.columns))\n",
    "historical = historical.apply(lambda col: col.apply(lambda value: float(str(value).split(\" \")[0].replace(\",\", \"\"))))\n",
    "fig = format_fig(px.line(\n",
    "    historical, \n",
    "    x=\"Year\", \n",
    "    y=[\"Personal\", \"Married couple's\", \"Blind person's\", \"Dividend\", \"Savings basic rate\", \"Savings higher rate\"],\n",
    "    line_shape=\"hv\"\n",
    ").update_layout(\n",
    "    legend_title=\"Allowance\",\n",
    "    yaxis_title=\"Amount per year\",\n",
    "    yaxis_tickprefix=\"£\",\n",
    "), show=False)\n",
    "from pathlib import Path\n",
    "IMAGES = Path(\"images\")\n",
    "fig.write_image(IMAGES / \"fig_1.png\")\n",
    "fig"
   ],
   "outputs": [
    {
     "output_type": "display_data",
     "data": {
      "application/vnd.plotly.v1+json": {
       "config": {
        "plotlyServerURL": "https://plot.ly"
       },
       "data": [
        {
         "hovertemplate": "variable=Personal<br>Year=%{x}<br>value=%{y}<extra></extra>",
         "legendgroup": "Personal",
         "line": {
          "color": "#636efa",
          "dash": "solid",
          "shape": "hv"
         },
         "mode": "lines",
         "name": "Personal",
         "orientation": "v",
         "showlegend": true,
         "type": "scatter",
         "x": [
          1990,
          1991,
          1992,
          1993,
          1994,
          1995,
          1996,
          1997,
          1998,
          1999,
          2000,
          2001,
          2002,
          2003,
          2004,
          2005,
          2006,
          2007,
          2008,
          2009,
          2010,
          2011,
          2012,
          2013,
          2014,
          2015,
          2016,
          2017,
          2018,
          2019,
          2020,
          2021
         ],
         "xaxis": "x",
         "y": [
          3005,
          3295,
          3445,
          3445,
          3445,
          3525,
          3765,
          4045,
          4195,
          4335,
          4385,
          4535,
          4615,
          4615,
          4745,
          4895,
          5035,
          5225,
          6035,
          6475,
          6475,
          7475,
          8105,
          9440,
          10000,
          10600,
          11000,
          11500,
          11850,
          12500,
          12500,
          12570
         ],
         "yaxis": "y"
        },
        {
         "hovertemplate": "variable=Married couple's<br>Year=%{x}<br>value=%{y}<extra></extra>",
         "legendgroup": "Married couple's",
         "line": {
          "color": "#EF553B",
          "dash": "solid",
          "shape": "hv"
         },
         "mode": "lines",
         "name": "Married couple's",
         "orientation": "v",
         "showlegend": true,
         "type": "scatter",
         "x": [
          1990,
          1991,
          1992,
          1993,
          1994,
          1995,
          1996,
          1997,
          1998,
          1999,
          2000,
          2001,
          2002,
          2003,
          2004,
          2005,
          2006,
          2007,
          2008,
          2009,
          2010,
          2011,
          2012,
          2013,
          2014,
          2015,
          2016,
          2017,
          2018,
          2019,
          2020,
          2021
         ],
         "xaxis": "x",
         "y": [
          1720,
          1720,
          1720,
          1720,
          1720,
          1720,
          1799,
          1830,
          1900,
          1970,
          null,
          null,
          null,
          null,
          null,
          null,
          null,
          null,
          null,
          null,
          null,
          null,
          null,
          null,
          null,
          null,
          null,
          null,
          null,
          null,
          null,
          null
         ],
         "yaxis": "y"
        },
        {
         "hovertemplate": "variable=Blind person's<br>Year=%{x}<br>value=%{y}<extra></extra>",
         "legendgroup": "Blind person's",
         "line": {
          "color": "#00cc96",
          "dash": "solid",
          "shape": "hv"
         },
         "mode": "lines",
         "name": "Blind person's",
         "orientation": "v",
         "showlegend": true,
         "type": "scatter",
         "x": [
          1990,
          1991,
          1992,
          1993,
          1994,
          1995,
          1996,
          1997,
          1998,
          1999,
          2000,
          2001,
          2002,
          2003,
          2004,
          2005,
          2006,
          2007,
          2008,
          2009,
          2010,
          2011,
          2012,
          2013,
          2014,
          2015,
          2016,
          2017,
          2018,
          2019,
          2020,
          2021
         ],
         "xaxis": "x",
         "y": [
          1080,
          1080,
          1080,
          1080,
          1200,
          1200,
          1250,
          1280,
          1330,
          1380,
          1400,
          1450,
          1480,
          1510,
          1560,
          1610,
          1660,
          1730,
          1800,
          1890,
          1890,
          1980,
          2100,
          2160,
          2230,
          2290,
          2290,
          2320,
          2390,
          2450,
          2500,
          2520
         ],
         "yaxis": "y"
        },
        {
         "hovertemplate": "variable=Dividend<br>Year=%{x}<br>value=%{y}<extra></extra>",
         "legendgroup": "Dividend",
         "line": {
          "color": "#ab63fa",
          "dash": "solid",
          "shape": "hv"
         },
         "mode": "lines",
         "name": "Dividend",
         "orientation": "v",
         "showlegend": true,
         "type": "scatter",
         "x": [
          1990,
          1991,
          1992,
          1993,
          1994,
          1995,
          1996,
          1997,
          1998,
          1999,
          2000,
          2001,
          2002,
          2003,
          2004,
          2005,
          2006,
          2007,
          2008,
          2009,
          2010,
          2011,
          2012,
          2013,
          2014,
          2015,
          2016,
          2017,
          2018,
          2019,
          2020,
          2021
         ],
         "xaxis": "x",
         "y": [
          null,
          null,
          null,
          null,
          null,
          null,
          null,
          null,
          null,
          null,
          null,
          null,
          null,
          null,
          null,
          null,
          null,
          null,
          null,
          null,
          null,
          null,
          null,
          null,
          null,
          null,
          5000,
          5000,
          2000,
          2000,
          2000,
          2000
         ],
         "yaxis": "y"
        },
        {
         "hovertemplate": "variable=Savings basic rate<br>Year=%{x}<br>value=%{y}<extra></extra>",
         "legendgroup": "Savings basic rate",
         "line": {
          "color": "#FFA15A",
          "dash": "solid",
          "shape": "hv"
         },
         "mode": "lines",
         "name": "Savings basic rate",
         "orientation": "v",
         "showlegend": true,
         "type": "scatter",
         "x": [
          1990,
          1991,
          1992,
          1993,
          1994,
          1995,
          1996,
          1997,
          1998,
          1999,
          2000,
          2001,
          2002,
          2003,
          2004,
          2005,
          2006,
          2007,
          2008,
          2009,
          2010,
          2011,
          2012,
          2013,
          2014,
          2015,
          2016,
          2017,
          2018,
          2019,
          2020,
          2021
         ],
         "xaxis": "x",
         "y": [
          null,
          null,
          null,
          null,
          null,
          null,
          null,
          null,
          null,
          null,
          null,
          null,
          null,
          null,
          null,
          null,
          null,
          null,
          null,
          null,
          null,
          null,
          null,
          null,
          null,
          null,
          1000,
          1000,
          1000,
          1000,
          1000,
          1000
         ],
         "yaxis": "y"
        },
        {
         "hovertemplate": "variable=Savings higher rate<br>Year=%{x}<br>value=%{y}<extra></extra>",
         "legendgroup": "Savings higher rate",
         "line": {
          "color": "#19d3f3",
          "dash": "solid",
          "shape": "hv"
         },
         "mode": "lines",
         "name": "Savings higher rate",
         "orientation": "v",
         "showlegend": true,
         "type": "scatter",
         "x": [
          1990,
          1991,
          1992,
          1993,
          1994,
          1995,
          1996,
          1997,
          1998,
          1999,
          2000,
          2001,
          2002,
          2003,
          2004,
          2005,
          2006,
          2007,
          2008,
          2009,
          2010,
          2011,
          2012,
          2013,
          2014,
          2015,
          2016,
          2017,
          2018,
          2019,
          2020,
          2021
         ],
         "xaxis": "x",
         "y": [
          null,
          null,
          null,
          null,
          null,
          null,
          null,
          null,
          null,
          null,
          null,
          null,
          null,
          null,
          null,
          null,
          null,
          null,
          null,
          null,
          null,
          null,
          null,
          null,
          null,
          null,
          500,
          500,
          500,
          500,
          500,
          500
         ],
         "yaxis": "y"
        }
       ],
       "layout": {
        "font": {
         "family": "Roboto"
        },
        "height": 600,
        "hoverlabel": {
         "align": "right"
        },
        "images": [
         {
          "sizex": 0.12,
          "sizey": 0.12,
          "source": "https://raw.githubusercontent.com/UBICenter/blog/master/jb/_static/ubi_center_logo_wide_blue.png",
          "x": 0.98,
          "xanchor": "right",
          "xref": "paper",
          "y": -0.12,
          "yanchor": "bottom",
          "yref": "paper"
         }
        ],
        "legend": {
         "title": {
          "text": "Allowance"
         },
         "tracegroupgap": 0
        },
        "margin": {
         "t": 60
        },
        "paper_bgcolor": "white",
        "plot_bgcolor": "white",
        "template": {
         "data": {
          "bar": [
           {
            "error_x": {
             "color": "#2a3f5f"
            },
            "error_y": {
             "color": "#2a3f5f"
            },
            "marker": {
             "line": {
              "color": "#E5ECF6",
              "width": 0.5
             },
             "pattern": {
              "fillmode": "overlay",
              "size": 10,
              "solidity": 0.2
             }
            },
            "type": "bar"
           }
          ],
          "barpolar": [
           {
            "marker": {
             "line": {
              "color": "#E5ECF6",
              "width": 0.5
             },
             "pattern": {
              "fillmode": "overlay",
              "size": 10,
              "solidity": 0.2
             }
            },
            "type": "barpolar"
           }
          ],
          "carpet": [
           {
            "aaxis": {
             "endlinecolor": "#2a3f5f",
             "gridcolor": "white",
             "linecolor": "white",
             "minorgridcolor": "white",
             "startlinecolor": "#2a3f5f"
            },
            "baxis": {
             "endlinecolor": "#2a3f5f",
             "gridcolor": "white",
             "linecolor": "white",
             "minorgridcolor": "white",
             "startlinecolor": "#2a3f5f"
            },
            "type": "carpet"
           }
          ],
          "choropleth": [
           {
            "colorbar": {
             "outlinewidth": 0,
             "ticks": ""
            },
            "type": "choropleth"
           }
          ],
          "contour": [
           {
            "colorbar": {
             "outlinewidth": 0,
             "ticks": ""
            },
            "colorscale": [
             [
              0,
              "#0d0887"
             ],
             [
              0.1111111111111111,
              "#46039f"
             ],
             [
              0.2222222222222222,
              "#7201a8"
             ],
             [
              0.3333333333333333,
              "#9c179e"
             ],
             [
              0.4444444444444444,
              "#bd3786"
             ],
             [
              0.5555555555555556,
              "#d8576b"
             ],
             [
              0.6666666666666666,
              "#ed7953"
             ],
             [
              0.7777777777777778,
              "#fb9f3a"
             ],
             [
              0.8888888888888888,
              "#fdca26"
             ],
             [
              1,
              "#f0f921"
             ]
            ],
            "type": "contour"
           }
          ],
          "contourcarpet": [
           {
            "colorbar": {
             "outlinewidth": 0,
             "ticks": ""
            },
            "type": "contourcarpet"
           }
          ],
          "heatmap": [
           {
            "colorbar": {
             "outlinewidth": 0,
             "ticks": ""
            },
            "colorscale": [
             [
              0,
              "#0d0887"
             ],
             [
              0.1111111111111111,
              "#46039f"
             ],
             [
              0.2222222222222222,
              "#7201a8"
             ],
             [
              0.3333333333333333,
              "#9c179e"
             ],
             [
              0.4444444444444444,
              "#bd3786"
             ],
             [
              0.5555555555555556,
              "#d8576b"
             ],
             [
              0.6666666666666666,
              "#ed7953"
             ],
             [
              0.7777777777777778,
              "#fb9f3a"
             ],
             [
              0.8888888888888888,
              "#fdca26"
             ],
             [
              1,
              "#f0f921"
             ]
            ],
            "type": "heatmap"
           }
          ],
          "heatmapgl": [
           {
            "colorbar": {
             "outlinewidth": 0,
             "ticks": ""
            },
            "colorscale": [
             [
              0,
              "#0d0887"
             ],
             [
              0.1111111111111111,
              "#46039f"
             ],
             [
              0.2222222222222222,
              "#7201a8"
             ],
             [
              0.3333333333333333,
              "#9c179e"
             ],
             [
              0.4444444444444444,
              "#bd3786"
             ],
             [
              0.5555555555555556,
              "#d8576b"
             ],
             [
              0.6666666666666666,
              "#ed7953"
             ],
             [
              0.7777777777777778,
              "#fb9f3a"
             ],
             [
              0.8888888888888888,
              "#fdca26"
             ],
             [
              1,
              "#f0f921"
             ]
            ],
            "type": "heatmapgl"
           }
          ],
          "histogram": [
           {
            "marker": {
             "pattern": {
              "fillmode": "overlay",
              "size": 10,
              "solidity": 0.2
             }
            },
            "type": "histogram"
           }
          ],
          "histogram2d": [
           {
            "colorbar": {
             "outlinewidth": 0,
             "ticks": ""
            },
            "colorscale": [
             [
              0,
              "#0d0887"
             ],
             [
              0.1111111111111111,
              "#46039f"
             ],
             [
              0.2222222222222222,
              "#7201a8"
             ],
             [
              0.3333333333333333,
              "#9c179e"
             ],
             [
              0.4444444444444444,
              "#bd3786"
             ],
             [
              0.5555555555555556,
              "#d8576b"
             ],
             [
              0.6666666666666666,
              "#ed7953"
             ],
             [
              0.7777777777777778,
              "#fb9f3a"
             ],
             [
              0.8888888888888888,
              "#fdca26"
             ],
             [
              1,
              "#f0f921"
             ]
            ],
            "type": "histogram2d"
           }
          ],
          "histogram2dcontour": [
           {
            "colorbar": {
             "outlinewidth": 0,
             "ticks": ""
            },
            "colorscale": [
             [
              0,
              "#0d0887"
             ],
             [
              0.1111111111111111,
              "#46039f"
             ],
             [
              0.2222222222222222,
              "#7201a8"
             ],
             [
              0.3333333333333333,
              "#9c179e"
             ],
             [
              0.4444444444444444,
              "#bd3786"
             ],
             [
              0.5555555555555556,
              "#d8576b"
             ],
             [
              0.6666666666666666,
              "#ed7953"
             ],
             [
              0.7777777777777778,
              "#fb9f3a"
             ],
             [
              0.8888888888888888,
              "#fdca26"
             ],
             [
              1,
              "#f0f921"
             ]
            ],
            "type": "histogram2dcontour"
           }
          ],
          "mesh3d": [
           {
            "colorbar": {
             "outlinewidth": 0,
             "ticks": ""
            },
            "type": "mesh3d"
           }
          ],
          "parcoords": [
           {
            "line": {
             "colorbar": {
              "outlinewidth": 0,
              "ticks": ""
             }
            },
            "type": "parcoords"
           }
          ],
          "pie": [
           {
            "automargin": true,
            "type": "pie"
           }
          ],
          "scatter": [
           {
            "marker": {
             "colorbar": {
              "outlinewidth": 0,
              "ticks": ""
             }
            },
            "type": "scatter"
           }
          ],
          "scatter3d": [
           {
            "line": {
             "colorbar": {
              "outlinewidth": 0,
              "ticks": ""
             }
            },
            "marker": {
             "colorbar": {
              "outlinewidth": 0,
              "ticks": ""
             }
            },
            "type": "scatter3d"
           }
          ],
          "scattercarpet": [
           {
            "marker": {
             "colorbar": {
              "outlinewidth": 0,
              "ticks": ""
             }
            },
            "type": "scattercarpet"
           }
          ],
          "scattergeo": [
           {
            "marker": {
             "colorbar": {
              "outlinewidth": 0,
              "ticks": ""
             }
            },
            "type": "scattergeo"
           }
          ],
          "scattergl": [
           {
            "marker": {
             "colorbar": {
              "outlinewidth": 0,
              "ticks": ""
             }
            },
            "type": "scattergl"
           }
          ],
          "scattermapbox": [
           {
            "marker": {
             "colorbar": {
              "outlinewidth": 0,
              "ticks": ""
             }
            },
            "type": "scattermapbox"
           }
          ],
          "scatterpolar": [
           {
            "marker": {
             "colorbar": {
              "outlinewidth": 0,
              "ticks": ""
             }
            },
            "type": "scatterpolar"
           }
          ],
          "scatterpolargl": [
           {
            "marker": {
             "colorbar": {
              "outlinewidth": 0,
              "ticks": ""
             }
            },
            "type": "scatterpolargl"
           }
          ],
          "scatterternary": [
           {
            "marker": {
             "colorbar": {
              "outlinewidth": 0,
              "ticks": ""
             }
            },
            "type": "scatterternary"
           }
          ],
          "surface": [
           {
            "colorbar": {
             "outlinewidth": 0,
             "ticks": ""
            },
            "colorscale": [
             [
              0,
              "#0d0887"
             ],
             [
              0.1111111111111111,
              "#46039f"
             ],
             [
              0.2222222222222222,
              "#7201a8"
             ],
             [
              0.3333333333333333,
              "#9c179e"
             ],
             [
              0.4444444444444444,
              "#bd3786"
             ],
             [
              0.5555555555555556,
              "#d8576b"
             ],
             [
              0.6666666666666666,
              "#ed7953"
             ],
             [
              0.7777777777777778,
              "#fb9f3a"
             ],
             [
              0.8888888888888888,
              "#fdca26"
             ],
             [
              1,
              "#f0f921"
             ]
            ],
            "type": "surface"
           }
          ],
          "table": [
           {
            "cells": {
             "fill": {
              "color": "#EBF0F8"
             },
             "line": {
              "color": "white"
             }
            },
            "header": {
             "fill": {
              "color": "#C8D4E3"
             },
             "line": {
              "color": "white"
             }
            },
            "type": "table"
           }
          ]
         },
         "layout": {
          "annotationdefaults": {
           "arrowcolor": "#2a3f5f",
           "arrowhead": 0,
           "arrowwidth": 1
          },
          "autotypenumbers": "strict",
          "coloraxis": {
           "colorbar": {
            "outlinewidth": 0,
            "ticks": ""
           }
          },
          "colorscale": {
           "diverging": [
            [
             0,
             "#8e0152"
            ],
            [
             0.1,
             "#c51b7d"
            ],
            [
             0.2,
             "#de77ae"
            ],
            [
             0.3,
             "#f1b6da"
            ],
            [
             0.4,
             "#fde0ef"
            ],
            [
             0.5,
             "#f7f7f7"
            ],
            [
             0.6,
             "#e6f5d0"
            ],
            [
             0.7,
             "#b8e186"
            ],
            [
             0.8,
             "#7fbc41"
            ],
            [
             0.9,
             "#4d9221"
            ],
            [
             1,
             "#276419"
            ]
           ],
           "sequential": [
            [
             0,
             "#0d0887"
            ],
            [
             0.1111111111111111,
             "#46039f"
            ],
            [
             0.2222222222222222,
             "#7201a8"
            ],
            [
             0.3333333333333333,
             "#9c179e"
            ],
            [
             0.4444444444444444,
             "#bd3786"
            ],
            [
             0.5555555555555556,
             "#d8576b"
            ],
            [
             0.6666666666666666,
             "#ed7953"
            ],
            [
             0.7777777777777778,
             "#fb9f3a"
            ],
            [
             0.8888888888888888,
             "#fdca26"
            ],
            [
             1,
             "#f0f921"
            ]
           ],
           "sequentialminus": [
            [
             0,
             "#0d0887"
            ],
            [
             0.1111111111111111,
             "#46039f"
            ],
            [
             0.2222222222222222,
             "#7201a8"
            ],
            [
             0.3333333333333333,
             "#9c179e"
            ],
            [
             0.4444444444444444,
             "#bd3786"
            ],
            [
             0.5555555555555556,
             "#d8576b"
            ],
            [
             0.6666666666666666,
             "#ed7953"
            ],
            [
             0.7777777777777778,
             "#fb9f3a"
            ],
            [
             0.8888888888888888,
             "#fdca26"
            ],
            [
             1,
             "#f0f921"
            ]
           ]
          },
          "colorway": [
           "#636efa",
           "#EF553B",
           "#00cc96",
           "#ab63fa",
           "#FFA15A",
           "#19d3f3",
           "#FF6692",
           "#B6E880",
           "#FF97FF",
           "#FECB52"
          ],
          "font": {
           "color": "#2a3f5f"
          },
          "geo": {
           "bgcolor": "white",
           "lakecolor": "white",
           "landcolor": "#E5ECF6",
           "showlakes": true,
           "showland": true,
           "subunitcolor": "white"
          },
          "hoverlabel": {
           "align": "left"
          },
          "hovermode": "closest",
          "mapbox": {
           "style": "light"
          },
          "paper_bgcolor": "white",
          "plot_bgcolor": "#E5ECF6",
          "polar": {
           "angularaxis": {
            "gridcolor": "white",
            "linecolor": "white",
            "ticks": ""
           },
           "bgcolor": "#E5ECF6",
           "radialaxis": {
            "gridcolor": "white",
            "linecolor": "white",
            "ticks": ""
           }
          },
          "scene": {
           "xaxis": {
            "backgroundcolor": "#E5ECF6",
            "gridcolor": "white",
            "gridwidth": 2,
            "linecolor": "white",
            "showbackground": true,
            "ticks": "",
            "zerolinecolor": "white"
           },
           "yaxis": {
            "backgroundcolor": "#E5ECF6",
            "gridcolor": "white",
            "gridwidth": 2,
            "linecolor": "white",
            "showbackground": true,
            "ticks": "",
            "zerolinecolor": "white"
           },
           "zaxis": {
            "backgroundcolor": "#E5ECF6",
            "gridcolor": "white",
            "gridwidth": 2,
            "linecolor": "white",
            "showbackground": true,
            "ticks": "",
            "zerolinecolor": "white"
           }
          },
          "shapedefaults": {
           "line": {
            "color": "#2a3f5f"
           }
          },
          "ternary": {
           "aaxis": {
            "gridcolor": "white",
            "linecolor": "white",
            "ticks": ""
           },
           "baxis": {
            "gridcolor": "white",
            "linecolor": "white",
            "ticks": ""
           },
           "bgcolor": "#E5ECF6",
           "caxis": {
            "gridcolor": "white",
            "linecolor": "white",
            "ticks": ""
           }
          },
          "title": {
           "x": 0.05
          },
          "xaxis": {
           "automargin": true,
           "gridcolor": "white",
           "linecolor": "white",
           "ticks": "",
           "title": {
            "standoff": 15
           },
           "zerolinecolor": "white",
           "zerolinewidth": 2
          },
          "yaxis": {
           "automargin": true,
           "gridcolor": "white",
           "linecolor": "white",
           "ticks": "",
           "title": {
            "standoff": 15
           },
           "zerolinecolor": "white",
           "zerolinewidth": 2
          }
         }
        },
        "title": {
         "font": {
          "size": 20
         }
        },
        "width": 800,
        "xaxis": {
         "anchor": "y",
         "domain": [
          0,
          1
         ],
         "tickfont": {
          "size": 14
         },
         "title": {
          "font": {
           "color": "black",
           "size": 16
          },
          "text": "Year"
         }
        },
        "yaxis": {
         "anchor": "x",
         "domain": [
          0,
          1
         ],
         "tickfont": {
          "size": 14
         },
         "tickprefix": "£",
         "title": {
          "font": {
           "color": "black",
           "size": 16
          },
          "text": "Amount per year"
         }
        }
       }
      }
     },
     "metadata": {}
    }
   ],
   "metadata": {
    "tags": [
     "hide-input"
    ]
   }
  },
  {
   "cell_type": "markdown",
   "source": [
    "The Personal Allowance is applicable to the vast majority of UK individuals, but it is means-tested: individuals with an adjusted net income (taxable income) of over £100,000 begin to see their Personal Allowance phased out at a rate of 50% as they increase earnings. This saves a small amount of revenue but at the cost of a decrease to work incentives in the region. The Personal Allowance also reduces marginal tax rates at the lower end of the income spectrum, but the effect is smaller as reductions in tax MTRs are partially offset by increases in benefit phaseout (benefits are paid based on post-tax income, so if tax liability decreases, so does benefit entitlement in most cases)."
   ],
   "metadata": {}
  },
  {
   "cell_type": "code",
   "execution_count": 2,
   "source": [
    "from openfisca_uk import IndividualSim, reforms\n",
    "from openfisca_uk.situation_examples.examples import single_person_UC\n",
    "from ubicenter.plotly import BLUE, GRAY\n",
    "from openfisca_uk_data import FRS_SPI_Adjusted\n",
    "\n",
    "def get_hypothetical_plots(base, reform, base_name = \"Baseline\", reform_name = \"Reform\"):\n",
    "    reformed = single_person_UC(IndividualSim(reform))\n",
    "    baseline = single_person_UC(IndividualSim(base))\n",
    "\n",
    "    baseline.vary(\"employment_income\")\n",
    "    reformed.vary(\"employment_income\")\n",
    "\n",
    "    df = pd.DataFrame({\n",
    "        \"Employment income\": baseline.calc(\"employment_income\")[0],\n",
    "        base_name: baseline.calc_mtr(),\n",
    "        reform_name: reformed.calc_mtr(),\n",
    "    })\n",
    "\n",
    "    mtr_fig = format_fig(px.line(df, x=\"Employment income\", y=[base_name, reform_name], color_discrete_sequence=[GRAY, BLUE]).update_layout(\n",
    "        legend_title=\"Policy\",\n",
    "        yaxis_tickformat=\"%\",\n",
    "        yaxis_title=\"Marginal tax rate\",\n",
    "        xaxis_tickprefix=\"£\"\n",
    "    ), show=False)\n",
    "    \n",
    "    df = pd.DataFrame({\n",
    "        \"Employment income\": baseline.calc(\"employment_income\")[0],\n",
    "        base_name: baseline.calc(\"household_net_income\")[0],\n",
    "        reform_name: reformed.calc(\"household_net_income\")[0],\n",
    "    })\n",
    "    \n",
    "    budget_fig = format_fig(px.line(df, x=\"Employment income\", y=[base_name, reform_name], color_discrete_sequence=[GRAY, BLUE]).update_layout(\n",
    "        legend_title=\"Policy\",\n",
    "        yaxis_tickprefix=\"£\",\n",
    "        yaxis_title=\"Household budget\",\n",
    "        xaxis_tickprefix=\"£\"\n",
    "    ), show=False)\n",
    "    \n",
    "    return budget_fig, mtr_fig\n",
    "\n",
    "budget, mtr = get_hypothetical_plots(reforms.structural.abolish(\"personal_allowance\"), (), base_name = \"Without PA\", reform_name = \"With PA\")\n",
    "mtr.write_image(IMAGES / \"fig_2.png\")\n",
    "mtr.show()"
   ],
   "outputs": [],
   "metadata": {
    "tags": [
     "hide-input"
    ]
   }
  },
  {
   "cell_type": "markdown",
   "source": [
    "The Personal Allowance does increase the incomes of those on low incomes (except for non-earners, whom it does not affect), compared to a policy of higher taxation and no additional spending. But the benefit to taxpayers increases with income."
   ],
   "metadata": {}
  },
  {
   "cell_type": "code",
   "execution_count": null,
   "source": [
    "budget.write_image(IMAGES / \"fig_3.png\")\n",
    "budget.show()"
   ],
   "outputs": [],
   "metadata": {
    "tags": [
     "hide-input"
    ]
   }
  },
  {
   "cell_type": "markdown",
   "source": [
    "However, its inclusion in the tax code is disproportionately beneficial in absolute amount to those on higher incomes before the phase-out (due to the fact that it effectively delays the current marginal tax rate schedule, which increases monotonically within the range of the Personal Allowance). Gain relative to income is less regressive but not obviously progressive."
   ],
   "metadata": {}
  },
  {
   "cell_type": "code",
   "execution_count": null,
   "source": [
    "from openfisca_uk import graphs\n",
    "from openfisca_uk import Microsimulation\n",
    "from plotly import graph_objects as go\n",
    "\n",
    "baseline = Microsimulation(reforms.structural.abolish(\"personal_allowance\"), dataset=FRS_SPI_Adjusted)\n",
    "\n",
    "rel_fig = graphs.decile_chart((), bucket_variable=\"equiv_household_net_income\", change_variable=\"household_net_income\", baseline=baseline, relative=True, microsimulation_kwargs=dict(dataset=FRS_SPI_Adjusted))\n",
    "fig = format_fig(rel_fig, show=False)\n",
    "fig.write_image(IMAGES / \"fig_4.png\")\n",
    "fig"
   ],
   "outputs": [],
   "metadata": {
    "tags": [
     "hide-input"
    ]
   }
  },
  {
   "cell_type": "markdown",
   "source": [
    "Overall, the Personal Allowance represents a significant tax cut (over £100bn per year) for UK individuals, and therefore whilst most of its benefits go to the highest incomes, it does still have some antipoverty effects. The below table shows the effects of introducing the Personal Allowance in 2020, from the counterfactual of it not existing. The Personal Allowance is particularly strong at reducing the poverty rate of those over the State Pension Age - primarily due to the fact that the State Pension is taxable, and a significant proportion of income for many. The allowance does recoup a small proportion of its tax expenditure in the form of reduced benefit spending, as individuals' reduced tax liability increases their applicable income, and therefore reduction, in benefit programs."
   ],
   "metadata": {}
  },
  {
   "cell_type": "markdown",
   "source": [
    "### UBI Conversion\n",
    "\n",
    "Repealing the Personal Allowance raises a significant amount of increased tax revenue, posing the question of how the socio-economic effects of this revenue might differ if distributed as a universal basic income, rather than a tax cut. The details of such a UBI policy are simple: each adult and child citizen of the United Kingdom receives an equal payment: a share of the total available funds (maintaining budget neutrality). The static results of such a reform are given in the following table:"
   ],
   "metadata": {}
  },
  {
   "cell_type": "code",
   "execution_count": null,
   "source": [
    "poverty_hbai = pd.read_csv(\"data/external/poverty_hbai.csv\")\n",
    "poverty_cols = [\"Absolute, BHC\", \"Absolute, AHC\", \"Relative, BHC\", \"Relative, AHC\"]\n",
    "for col in poverty_cols:\n",
    "    poverty_hbai[col] /= 100\n",
    "poverty_hbai[\"Year\"] = poverty_hbai[\"Unnamed: 0\"]\n",
    "poverty_hbai.Year = poverty_hbai.Year.apply(lambda x: int(x[:4]))\n",
    "fig = format_fig(px.line(\n",
    "    poverty_hbai, \n",
    "    x=\"Year\",\n",
    "    y=poverty_cols,\n",
    "    ).update_layout(\n",
    "        yaxis_tickformat=\"%\",\n",
    "        yaxis_title=\"Percentage of individuals\",\n",
    "        legend_title=\"Poverty measure\"\n",
    "    ), show=False)\n",
    "fig.write_image(IMAGES / \"fig_5.png\")\n",
    "fig"
   ],
   "outputs": [],
   "metadata": {}
  },
  {
   "cell_type": "code",
   "execution_count": null,
   "source": [
    "from openfisca_uk.api import *\n",
    "import pandas as pd\n",
    "\n",
    "def evaluate_reform(reform, baseline, name=\"Reform\"):\n",
    "    def round_(x, dp=2, *args):\n",
    "        try:\n",
    "            res = round(x, ndigits=dp, *args)\n",
    "            return '{:.2f}'.format(res)\n",
    "        except:\n",
    "            return \"-\"\n",
    "    def pct(x):\n",
    "        if x[0] == 0:\n",
    "            return \"-\"\n",
    "        else:\n",
    "            return (x[1] - x[0]) / x[0]\n",
    "    absolute = lambda x: x[1] - x[0]\n",
    "    def change(f, sim):\n",
    "        return f(baseline), f(sim)\n",
    "    reformed = Microsimulation(reform, dataset=FRS_SPI_Adjusted)\n",
    "    \n",
    "    median_income = lambda sim: sim.calc(\"household_net_income\", map_to=\"person\").median()\n",
    "    poverty_rate = lambda sim: sim.calc(\"in_poverty_bhc\", map_to=\"person\").mean()\n",
    "    deep_poverty_rate = lambda sim: sim.calc(\"in_deep_poverty_bhc\", map_to=\"person\").mean()\n",
    "    adult_poverty_rate = lambda sim: sim.calc(\"in_poverty_bhc\", map_to=\"person\")[baseline.calc(\"is_WA_adult\")].mean()\n",
    "    senior_poverty_rate = lambda sim: sim.calc(\"in_poverty_bhc\", map_to=\"person\")[baseline.calc(\"is_SP_age\")].mean()\n",
    "    child_poverty_rate = lambda sim: sim.calc(\"in_poverty_bhc\", map_to=\"person\")[baseline.calc(\"is_child\")].mean()\n",
    "    poverty_gap = lambda sim: sim.calc(\"poverty_gap_bhc\").sum()\n",
    "    inequality = lambda sim: sim.calc(\"household_net_income\", map_to=\"person\").gini()\n",
    "    tax_revenue = lambda sim: sim.calc(\"tax\").sum()\n",
    "    benefit_spending = lambda sim: sim.calc(\"benefits\").sum()\n",
    "    winner_share = lambda sim: round(100 * (sim.calc(\"household_net_income\", map_to=\"person\") > baseline.calc(\"household_net_income\", map_to=\"person\")).mean(), 2)\n",
    "    loser_share = lambda sim: round(100 * (sim.calc(\"household_net_income\", map_to=\"person\") < baseline.calc(\"household_net_income\", map_to=\"person\")).mean(), 2)\n",
    "    \n",
    "    metric_fns = [\n",
    "        median_income,\n",
    "        inequality,\n",
    "        poverty_rate,\n",
    "        deep_poverty_rate,\n",
    "        adult_poverty_rate,\n",
    "        senior_poverty_rate,\n",
    "        child_poverty_rate,\n",
    "        poverty_gap,\n",
    "        tax_revenue,\n",
    "        benefit_spending,\n",
    "        winner_share,\n",
    "        loser_share\n",
    "    ]\n",
    "    metric_names = [\n",
    "        (\"Distributional\", \"Median income (£k)\"),\n",
    "        (\"Distributional\", \"Gini coefficient\"),\n",
    "        (\"Poverty\", \"Overall rate (pp)\"),\n",
    "        (\"Poverty\", \"Deep poverty rate (pp)\"),\n",
    "        (\"Poverty\", \"Adult poverty rate (pp)\"),\n",
    "        (\"Poverty\", \"Senior poverty rate (pp)\"),\n",
    "        (\"Poverty\", \"Child poverty rate (pp)\"),\n",
    "        (\"Poverty\", \"Poverty gap (£bn)\"),\n",
    "        (\"Fiscal\", \"Tax revenue (£bn)\"),\n",
    "        (\"Fiscal\", \"Benefit spending (£bn)\"),\n",
    "        (\"Overall\", \"Winners\"),\n",
    "        (\"Overall\", \"Losers\")\n",
    "    ]\n",
    "    mul = [\n",
    "        1e-3,\n",
    "        1e+2,\n",
    "        1e+2,\n",
    "        1e+2,\n",
    "        1e+2,\n",
    "        1e+2,\n",
    "        1e+2,\n",
    "        1e-9,\n",
    "        1e-9,\n",
    "        1e-9,\n",
    "        1e+0,\n",
    "        1e+0\n",
    "    ]\n",
    "    index = pd.MultiIndex.from_tuples(metric_names, names=[\"Category\", \"Metric\"])\n",
    "\n",
    "    results = pd.DataFrame()\n",
    "\n",
    "    for metric, name, multiplier in zip(metric_fns, metric_names, mul):\n",
    "        results[name] = pd.Series([round_(absolute(change(metric, reformed)) * multiplier, 1), round_(pct(change(metric, reformed)) * 100, 2)], index=[\"Absolute\", \"Relative\"])\n",
    "    \n",
    "    results = results.T\n",
    "    results.index = index\n",
    "    return results\n",
    "\n",
    "def fund_UBI_from(reform):\n",
    "    baseline = Microsimulation(dataset=FRS_SPI_Adjusted)\n",
    "    revenue = baseline.calc(\"net_income\").sum() - Microsimulation(reform, dataset=FRS_SPI_Adjusted).calc(\"net_income\").sum()\n",
    "    UBI_amount = revenue / baseline.calc(\"people\").sum()\n",
    "    \n",
    "    class UBI(Variable):\n",
    "        value_type = float\n",
    "        entity = Person\n",
    "        definition_period = YEAR\n",
    "        label = \"UBI\"\n",
    "        \n",
    "        def formula(*args):\n",
    "            return UBI_amount\n",
    "    \n",
    "    class benefits(BASELINE_VARIABLES.benefits):\n",
    "        def formula(person, period, parameters):\n",
    "            return BASELINE_VARIABLES.benefits.formula(person, period, parameters) + person(\"UBI\", period)\n",
    "    \n",
    "    return (reform, reforms.structural.new_variable(UBI), reforms.structural.restructure(benefits))\n",
    "\n",
    "PA_UBI_reform = fund_UBI_from(reforms.structural.abolish(\"personal_allowance\"))\n",
    "\n",
    "results = evaluate_reform(PA_UBI_reform, Microsimulation(dataset=FRS_SPI_Adjusted))\n",
    "print(results.to_latex())"
   ],
   "outputs": [],
   "metadata": {
    "tags": [
     "hide-input"
    ]
   }
  },
  {
   "cell_type": "markdown",
   "source": [
    "The results of the simulation present socio-economic outcomes competitive with the act of introducing the Personal Allowance from its non-existence - with the UBI reform requiring no unfunded increase in spending, unlike the £106bn increase required to fund the Personal Allowance."
   ],
   "metadata": {}
  },
  {
   "cell_type": "markdown",
   "source": [
    "## Primary Threshold\n",
    "\n",
    "### Current System\n",
    "\n",
    "National Insurance, separate to Income Tax, is a tax on employment and self-employment income. It consists of four separate classes: Class 1, on employment income for both employees and employers; Class 2, a flat rate on self-employment income; Class 3, voluntary contributions to maintain access to associated benefits; and Class 4, a marginal rate on self-employment income.\n",
    "\n",
    "Within Class 1, there are Primary (employee-side) and Secondary (employer-side) contribution paid, and Class 1A and 1B rates paid by employers on expenses and benefits paid to employees.\n",
    "\n",
    "Shown below, thresholds and rates have broadly risen over time"
   ],
   "metadata": {}
  },
  {
   "cell_type": "code",
   "execution_count": null,
   "source": [
    "historical_NI = pd.read_csv(\"data/external/historical_NI.csv\")\n",
    "historical_NI[\"NICS Class\"].fillna(method='ffill', inplace=True)\n",
    "historical_NI.index = list(map(lambda rate, cat: f\"{cat}, {rate}\", historical_NI[\"Rate type\"], historical_NI[\"NICS Class\"]))\n",
    "historical_NI.drop([\"Rate type\", \"NICS Class\"], axis=1, inplace=True)\n",
    "historical_NI.columns = list(range(1999, 2021))\n",
    "historical_NI = historical_NI.T\n",
    "\n",
    "def parse_value(x):\n",
    "    try:\n",
    "        if \"£\" in x:\n",
    "            return float(x[1:].replace(\",\", \"\"))\n",
    "        elif \"%\" in x:\n",
    "            return float(x[:-1]) / 100\n",
    "    except:\n",
    "        return None\n",
    "\n",
    "historical_NI = historical_NI.apply(lambda col: col.apply(parse_value))\n",
    "for column in historical_NI.columns:\n",
    "    if \"week\" in column:\n",
    "        historical_NI[column] *= 52\n",
    "        \n",
    "def cutoff_name(name):\n",
    "    if \"(\" in name:\n",
    "        name = \"(\".join(name.split(\"(\")[:2]).rstrip()\n",
    "    if \"–\" in name or \"-\" in name:\n",
    "        name = name.split(\"-\")[0].split(\"–\")[0].rstrip()\n",
    "    return name\n",
    "\n",
    "historical_NI.columns = list(map(cutoff_name, historical_NI.columns))\n",
    "historical_NI[\"Year\"] = historical_NI.index\n",
    "\n",
    "fig = format_fig(\n",
    "    px.line(\n",
    "        historical_NI,\n",
    "        x=\"Year\",\n",
    "        y=[\n",
    "           # 'Class 1, Lower earnings limit (LEL)',\n",
    "           'Class 1, Primary threshold (PT)',\n",
    "           # 'Class 1, Secondary threshold (ST)',\n",
    "           #'Class 1, Upper Secondary Threshold (under 21)',\n",
    "           #'Class 1, Apprentice Upper Secondary Threshold (apprentice under 25)',\n",
    "           #'Class 1, Upper accruals Point (UAP)',\n",
    "         #  'Class 1, Upper earnings limit (UEL)',\n",
    "           'Class 2, Small earnings exception / Small Profits Threshold',\n",
    "            'Class 4, Lower profits limit (LPL)',\n",
    "           #'Class 4, Upper profits limit (UPL)',\n",
    "           # 'Class 2, Flat',\n",
    "           #'Class 3, Flat', \n",
    "        ],\n",
    "        line_shape=\"hv\"\n",
    "    ).update_layout(\n",
    "        legend_title=\"Parameter\",\n",
    "        yaxis_title=\"Yearly amount\"\n",
    "    ), show=False\n",
    ")     \n",
    "fig.write_image(IMAGES / \"fig_6.png\")\n",
    "fig"
   ],
   "outputs": [],
   "metadata": {
    "tags": [
     "hide-input"
    ]
   }
  },
  {
   "cell_type": "code",
   "execution_count": null,
   "source": [
    "show_columns = [\n",
    "          #  'Class 1A and 1B, Contribution rate  (note 10)', \n",
    "           'Class 1, Primary (employee) main contribution rate',\n",
    "           'Class 1, Primary (employee) additional contribution rate',\n",
    "           'Class 1, Secondary (employer) contribution rate',\n",
    "          # 'Class 1, Primary (employee) reduced rate for married women and widow optants',\n",
    "          # 'Class 1, Primary (employee) contracted out rebate',\n",
    "           'Class 4, Main contribution rate (LPL to UPL)',\n",
    "           'Class 4, Additional contribution rate (above UPL)'\n",
    "        ]\n",
    "\n",
    "\n",
    "fig = format_fig(\n",
    "    px.line(\n",
    "        historical_NI,\n",
    "        x=\"Year\",\n",
    "        y=show_columns,\n",
    "        line_shape=\"hv\",\n",
    "    ).update_layout(\n",
    "        legend_title=\"Parameter\",\n",
    "        yaxis_title=\"Rate\",\n",
    "        yaxis_tickformat=\"%\"\n",
    "    ), show=False\n",
    ")\n",
    "fig.update_traces(patch={\"line\": {\"dash\": 'dash'}}, selector={\"legendgroup\": \"Class 4, Additional contribution rate (above UPL)\"})\n",
    "fig.write_image(IMAGES / \"fig_7.png\")\n",
    "fig"
   ],
   "outputs": [],
   "metadata": {
    "tags": [
     "hide-input"
    ]
   }
  },
  {
   "cell_type": "code",
   "execution_count": null,
   "source": [],
   "outputs": [],
   "metadata": {}
  },
  {
   "cell_type": "markdown",
   "source": [
    "The current system provides a lower tax burden for the self-employed - NI (and total tax) contributions are lower at most points in the income spectrum, except for a region caused by the flat rate of Class 2 contributions. This also makes no assumption about how employer contributions affect employee pay."
   ],
   "metadata": {}
  },
  {
   "cell_type": "code",
   "execution_count": null,
   "source": [
    "def self_employed_person(sim):\n",
    "    sim.add_person(age=26)\n",
    "    sim.vary(\"trading_income\")\n",
    "    return sim\n",
    "def employee(sim):\n",
    "    sim.add_person(age=26)\n",
    "    sim.vary(\"employment_income\")\n",
    "    return sim\n",
    "\n",
    "self_emp = self_employed_person(IndividualSim())\n",
    "emp = employee(IndividualSim())\n",
    "\n",
    "df = pd.DataFrame({\n",
    "    \"Income\": emp.calc(\"employment_income\")[0],\n",
    "    \"Income Tax + NI (employee)\": emp.calc(\"tax\")[0],\n",
    "    \"Income Tax + NI (self-employed)\": self_emp.calc(\"tax\")[0],\n",
    "    \"NI (employee)\": emp.calc(\"national_insurance\")[0],\n",
    "    \"NI (self-employed)\": self_emp.calc(\"national_insurance\")[0],\n",
    "})\n",
    "fig = format_fig(px.line(df, x=\"Income\", y=[\"Income Tax + NI (employee)\", \"Income Tax + NI (self-employed)\", \"NI (employee)\", \"NI (self-employed)\"],\n",
    "    color_discrete_sequence=[GRAY, BLUE]).update_layout(\n",
    "    yaxis_title=\"Yearly amount\",\n",
    "    yaxis_tickprefix=\"£\",\n",
    "    xaxis_tickprefix=\"£\",\n",
    "    legend_title=\"\",\n",
    "), show=False)\n",
    "\n",
    "fig.write_image(IMAGES / \"fig_8.png\")\n",
    "fig"
   ],
   "outputs": [],
   "metadata": {
    "tags": [
     "hide-input"
    ]
   }
  },
  {
   "cell_type": "code",
   "execution_count": null,
   "source": [
    "from openfisca_uk import IndividualSim, reforms\n",
    "from openfisca_uk.situation_examples.examples import single_person_UC\n",
    "from ubicenter.plotly import BLUE, GRAY\n",
    "from openfisca_uk_data import FRS_SPI_Adjusted\n",
    "\n",
    "NI_allowance_abolish = (\n",
    "    reforms.parametric.set_parameter(\"tax.national_insurance.class_1.thresholds.primary_threshold\", 0), \n",
    "    reforms.parametric.set_parameter(\"tax.national_insurance.class_4.thresholds.lower_profits_limit\", 0),\n",
    ")\n",
    "\n",
    "budget, mtr = get_hypothetical_plots(NI_allowance_abolish, (), base_name = \"Without PT/LEL\", reform_name = \"With PT/LEL\")\n",
    "mtr.write_image(IMAGES / \"fig_9.png\")\n",
    "mtr.show()"
   ],
   "outputs": [],
   "metadata": {}
  },
  {
   "cell_type": "markdown",
   "source": [
    "The removal of zero-rated parts of National Insurance would entail setting the Primary Threshold and the Lower Profits Limt to zero. Lowering the Small Earnings Exception, above which a flat rate of £3.05 per week is mandated, is therefore not necessary. This reform generates the following static estimated effects[^1]:\n",
    "\n",
    "[^1]: Note that while individuals of State Pension Age are not liable for National Insurance, their poverty status can still be altered if they live in a household close to the poverty line with any other person who is liable for NI."
   ],
   "metadata": {}
  },
  {
   "cell_type": "markdown",
   "source": [
    "### UBI Replacement\n",
    "\n",
    "A UBI replacement from the funding raised would have the following effects:"
   ],
   "metadata": {}
  },
  {
   "cell_type": "code",
   "execution_count": null,
   "source": [
    "NI_UBI_reform = fund_UBI_from(\n",
    "    (\n",
    "        reforms.parametric.set_parameter(\"tax.national_insurance.class_1.thresholds.primary_threshold\", 0), \n",
    "        reforms.parametric.set_parameter(\"tax.national_insurance.class_4.thresholds.lower_profits_limit\", 0),\n",
    "    )\n",
    ")\n",
    "\n",
    "print(evaluate_reform(NI_UBI_reform, Microsimulation(\n",
    "                dataset=FRS_SPI_Adjusted\n",
    "               ),).to_latex())"
   ],
   "outputs": [],
   "metadata": {
    "tags": [
     "hide-input"
    ]
   }
  },
  {
   "cell_type": "code",
   "execution_count": null,
   "source": [
    "help(graphs.decile_chart)"
   ],
   "outputs": [],
   "metadata": {}
  },
  {
   "cell_type": "code",
   "execution_count": null,
   "source": [
    "baseline = Microsimulation(dataset=FRS_SPI_Adjusted)\n",
    "PA_UBI_reformed = Microsimulation(PA_UBI_reform, dataset=FRS_SPI_Adjusted)\n",
    "NI_UBI_reformed = Microsimulation(NI_UBI_reform, dataset=FRS_SPI_Adjusted)\n",
    "income = baseline.calc(\"equiv_household_net_income\", map_to=\"person\")\n",
    "UBI_size = lambda sim: sim.calc(\"UBI\").sum()\n",
    "gain = lambda sim: sim.calc(\"household_net_income\", map_to=\"person\") - baseline.calc(\"household_net_income\", map_to=\"person\")\n",
    "decile = income.decile_rank()\n",
    "df = pd.DataFrame({\n",
    "    \"PA\": gain(PA_UBI_reformed).groupby(decile).sum() / UBI_size(PA_UBI_reformed),\n",
    "    \"PT/LPL\": gain(NI_UBI_reformed).groupby(decile).sum() / UBI_size(NI_UBI_reformed)\n",
    "})\n",
    "from ubicenter.plotly import LIGHT_BLUE, DARK_BLUE\n",
    "fig = format_fig(px.bar(df, barmode=\"group\", color_discrete_sequence=[LIGHT_BLUE, DARK_BLUE]).update_layout(\n",
    "    yaxis_tickformat=\"%\",\n",
    "    yaxis_title=\"Change in disposable income\",\n",
    "    xaxis_tickvals=list(range(1, 11)),\n",
    "    xaxis_title=\"Disposable income decile\",\n",
    "    legend_title=\"UBI funding\"\n",
    "), show=False)\n",
    "fig.write_image(IMAGES / \"fig_10.png\")\n",
    "fig"
   ],
   "outputs": [],
   "metadata": {}
  },
  {
   "cell_type": "code",
   "execution_count": null,
   "source": [
    "small_reforms = (\n",
    "    reforms.structural.abolish(\"dividend_allowance\"),\n",
    "    reforms.structural.abolish(\"property_allowance\"),\n",
    "    reforms.structural.abolish(\"trading_allowance\"),\n",
    "    (\n",
    "        reforms.parametric.set_parameter(\"benefit.universal_credit.means_test.earn_disregard\", 0),\n",
    "        reforms.parametric.set_parameter(\"benefit.universal_credit.means_test.earn_disregard_with_housing\", 0),\n",
    "    )\n",
    ")\n",
    "names = (\"Dividends\", \"Property\", \"Trading\", \"UC\")\n",
    "\n",
    "results = []\n",
    "for reform, name in zip(small_reforms, names):\n",
    "    res = evaluate_reform(fund_UBI_from(reform), Microsimulation(\n",
    "                dataset=FRS_SPI_Adjusted\n",
    "               ),)\n",
    "    results += [pd.concat([res[\"Relative\"][:-2], res[\"Absolute\"][-2:]])]"
   ],
   "outputs": [],
   "metadata": {}
  },
  {
   "cell_type": "code",
   "execution_count": null,
   "source": [
    "df = pd.concat(results, axis=1)\n",
    "df.columns = names\n",
    "df.reset_index(inplace=True)\n",
    "df.Metric = [\n",
    "    'Median income',\n",
    "    'Gini coefficient',\n",
    "    'Overall rate',\n",
    "    'Deep poverty rate',\n",
    "    'Adult poverty rate',\n",
    "    'Senior poverty rate',\n",
    "    'Child poverty rate',\n",
    "    'Poverty gap',\n",
    "    'Tax revenue',\n",
    "    'Benefit spending',\n",
    "    'Winners',\n",
    "    'Losers'\n",
    "]\n",
    "\n",
    "print(df.set_index([\"Category\", \"Metric\"]).to_latex())"
   ],
   "outputs": [],
   "metadata": {}
  },
  {
   "cell_type": "code",
   "execution_count": null,
   "source": [
    "from openfisca_uk_data import SPI\n",
    "#\n",
    "ref = Microsimulation(reforms.structural.abolish(\"savings_allowance\"), year=2016, dataset=SPI)\n",
    "baseline = Microsimulation(year=2016, dataset=SPI)\n",
    "baseline.calc(\"tax\").sum() - ref.calc(\"tax\").sum()"
   ],
   "outputs": [],
   "metadata": {}
  },
  {
   "cell_type": "code",
   "execution_count": null,
   "source": [],
   "outputs": [],
   "metadata": {}
  }
 ],
 "metadata": {
  "kernelspec": {
   "name": "python3",
   "display_name": "Python 3.7.10 64-bit ('openfisca': conda)"
  },
  "language_info": {
   "codemirror_mode": {
    "name": "ipython",
    "version": 3
   },
   "file_extension": ".py",
   "mimetype": "text/x-python",
   "name": "python",
   "nbconvert_exporter": "python",
   "pygments_lexer": "ipython3",
   "version": "3.7.10"
  },
  "interpreter": {
   "hash": "cfc8f7e0c6443d9a0fe16c63eb2e4c2c7aa52cdfaf9ed7f45084eb7131f7dd3d"
  }
 },
 "nbformat": 4,
 "nbformat_minor": 5
}